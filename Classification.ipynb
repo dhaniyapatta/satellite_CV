{
 "cells": [
  {
   "cell_type": "code",
   "execution_count": 4,
   "metadata": {},
   "outputs": [],
   "source": [
    "import json\n",
    "import os"
   ]
  },
  {
   "cell_type": "code",
   "execution_count": 1,
   "metadata": {},
   "outputs": [
    {
     "ename": "NameError",
     "evalue": "name 'os' is not defined",
     "output_type": "error",
     "traceback": [
      "\u001b[0;31m---------------------------------------------------------------------------\u001b[0m",
      "\u001b[0;31mNameError\u001b[0m                                 Traceback (most recent call last)",
      "\u001b[0;32m/tmp/ipykernel_3133/830799475.py\u001b[0m in \u001b[0;36m<module>\u001b[0;34m\u001b[0m\n\u001b[1;32m      1\u001b[0m \u001b[0mpath\u001b[0m \u001b[0;34m=\u001b[0m \u001b[0;34m\"/home/ayush/Documents/VisionBeyondLimits\"\u001b[0m\u001b[0;34m\u001b[0m\u001b[0;34m\u001b[0m\u001b[0m\n\u001b[0;32m----> 2\u001b[0;31m \u001b[0mos\u001b[0m\u001b[0;34m.\u001b[0m\u001b[0mchdir\u001b[0m\u001b[0;34m(\u001b[0m\u001b[0mpath\u001b[0m\u001b[0;34m)\u001b[0m\u001b[0;34m\u001b[0m\u001b[0;34m\u001b[0m\u001b[0m\n\u001b[0m",
      "\u001b[0;31mNameError\u001b[0m: name 'os' is not defined"
     ]
    }
   ],
   "source": [
    "path = \"/home/ayush/Documents/VisionBeyondLimits\"\n",
    "os.chdir(path)"
   ]
  },
  {
   "cell_type": "code",
   "execution_count": 6,
   "metadata": {},
   "outputs": [
    {
     "name": "stdout",
     "output_type": "stream",
     "text": [
      "destroyed\n",
      "/home/ayush/Documents/VisionBeyondLimits/Labels/mexico-earthquake_00000142_post_disaster.json\n",
      "major-damage\n",
      "/home/ayush/Documents/VisionBeyondLimits/Labels/mexico-earthquake_00000142_post_disaster.json\n",
      "major-damage\n",
      "/home/ayush/Documents/VisionBeyondLimits/Labels/mexico-earthquake_00000052_post_disaster.json\n",
      "major-damage\n",
      "/home/ayush/Documents/VisionBeyondLimits/Labels/mexico-earthquake_00000052_post_disaster.json\n",
      "major-damage\n",
      "/home/ayush/Documents/VisionBeyondLimits/Labels/mexico-earthquake_00000052_post_disaster.json\n",
      "major-damage\n",
      "/home/ayush/Documents/VisionBeyondLimits/Labels/mexico-earthquake_00000052_post_disaster.json\n",
      "major-damage\n",
      "/home/ayush/Documents/VisionBeyondLimits/Labels/mexico-earthquake_00000052_post_disaster.json\n",
      "major-damage\n",
      "/home/ayush/Documents/VisionBeyondLimits/Labels/mexico-earthquake_00000108_post_disaster.json\n",
      "major-damage\n",
      "/home/ayush/Documents/VisionBeyondLimits/Labels/mexico-earthquake_00000084_post_disaster.json\n",
      "major-damage\n",
      "/home/ayush/Documents/VisionBeyondLimits/Labels/mexico-earthquake_00000085_post_disaster.json\n",
      "major-damage\n",
      "/home/ayush/Documents/VisionBeyondLimits/Labels/mexico-earthquake_00000085_post_disaster.json\n",
      "major-damage\n",
      "/home/ayush/Documents/VisionBeyondLimits/Labels/mexico-earthquake_00000085_post_disaster.json\n",
      "major-damage\n",
      "/home/ayush/Documents/VisionBeyondLimits/Labels/mexico-earthquake_00000059_post_disaster.json\n",
      "destroyed\n",
      "/home/ayush/Documents/VisionBeyondLimits/Labels/mexico-earthquake_00000059_post_disaster.json\n",
      "major-damage\n",
      "/home/ayush/Documents/VisionBeyondLimits/Labels/mexico-earthquake_00000059_post_disaster.json\n",
      "major-damage\n",
      "/home/ayush/Documents/VisionBeyondLimits/Labels/mexico-earthquake_00000146_post_disaster.json\n",
      "major-damage\n",
      "/home/ayush/Documents/VisionBeyondLimits/Labels/mexico-earthquake_00000088_post_disaster.json\n",
      "major-damage\n",
      "/home/ayush/Documents/VisionBeyondLimits/Labels/mexico-earthquake_00000049_post_disaster.json\n",
      "major-damage\n",
      "/home/ayush/Documents/VisionBeyondLimits/Labels/mexico-earthquake_00000049_post_disaster.json\n",
      "major-damage\n",
      "/home/ayush/Documents/VisionBeyondLimits/Labels/mexico-earthquake_00000049_post_disaster.json\n"
     ]
    }
   ],
   "source": [
    "import os \n",
    "# Folder Path\n",
    "path = \"/home/ayush/Documents/VisionBeyondLimits/Labels\"\n",
    "# Change the directory\n",
    "os.chdir(path) \n",
    "# Read text File \n",
    "def read_text_file(file_path):\n",
    "    with open(file_path, 'r') as f:\n",
    "        data = json.load(f)\n",
    "        for b in data['features']['xy']:\n",
    "            if(b['properties']['subtype']!=\"no-damage\" and b['properties']['subtype']!=\"un-classified\" and b['properties']['subtype']!=\"minor-damage\"):\n",
    "                print(b['properties']['subtype'])\n",
    "                print(file_path)\n",
    "# iterate through all file\n",
    "for file in os.listdir(path):\n",
    "    # Check whether file is in text format or not\n",
    "    file_path = path +\"/\" + file\n",
    "    read_text_file(file_path)"
   ]
  },
  {
   "cell_type": "code",
   "execution_count": null,
   "metadata": {},
   "outputs": [],
   "source": []
  }
 ],
 "metadata": {
  "kernelspec": {
   "display_name": "Python 3",
   "language": "python",
   "name": "python3"
  },
  "language_info": {
   "codemirror_mode": {
    "name": "ipython",
    "version": 3
   },
   "file_extension": ".py",
   "mimetype": "text/x-python",
   "name": "python",
   "nbconvert_exporter": "python",
   "pygments_lexer": "ipython3",
   "version": "3.8.10"
  }
 },
 "nbformat": 4,
 "nbformat_minor": 2
}
